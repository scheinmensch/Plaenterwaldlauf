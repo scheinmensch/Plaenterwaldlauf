{
 "cells": [
  {
   "cell_type": "markdown",
   "id": "c10264a7-8362-4e74-b2b3-1536e74b10da",
   "metadata": {},
   "source": [
    "In this notebook I extract the data from the PDFs provided by the organizers of the run. I use Camelot."
   ]
  },
  {
   "cell_type": "code",
   "execution_count": 1,
   "id": "d65c6ebe-b0a2-48fd-a145-03f793a5002d",
   "metadata": {},
   "outputs": [],
   "source": [
    "import pandas as pd\n",
    "import numpy as np\n",
    "import camelot"
   ]
  },
  {
   "cell_type": "markdown",
   "id": "b4b36979-e39f-4ac3-a794-fe8764a920c9",
   "metadata": {},
   "source": [
    "### DATA OF 5KM RUN"
   ]
  },
  {
   "cell_type": "code",
   "execution_count": 2,
   "id": "3e7b4f82-e316-4ce6-a702-5936860fc6c7",
   "metadata": {},
   "outputs": [],
   "source": [
    "tables5 = camelot.read_pdf('data/5+km+Lauf_1_1597.pdf', flavor='stream', pages='all')"
   ]
  },
  {
   "cell_type": "code",
   "execution_count": 3,
   "id": "11cc665d-ea60-41f7-9249-50ffe0ca47b3",
   "metadata": {},
   "outputs": [],
   "source": [
    "five1=tables5[0].df\n",
    "five2=tables5[1].df\n",
    "five3=tables5[2].df\n",
    "five4=tables5[3].df"
   ]
  },
  {
   "cell_type": "code",
   "execution_count": 4,
   "id": "517f7a12-17ed-41b4-8144-851229dfb048",
   "metadata": {},
   "outputs": [],
   "source": [
    "def adjustments5(df):\n",
    "    df = df.drop(0)\n",
    "    df = df.drop([0,1,2], axis=1)\n",
    "    df = df.rename(columns=dict(zip(df.columns, ['Startnr.', 'AK', 'Platz AK', 'Verein', 'Bruttozeit', 'Nettozeit'])))\n",
    "    df = df.drop([1,2])\n",
    "    df = df.reset_index(drop=True)\n",
    "    df['Startnr.'] = df['Startnr.'].str.replace(r'^(\\d+)\\D.*', r'\\1', regex=True)\n",
    "    df['Strecke'] = 5\n",
    "    return df"
   ]
  },
  {
   "cell_type": "code",
   "execution_count": 5,
   "id": "33c85e65-9790-4056-8639-631a36afadd2",
   "metadata": {},
   "outputs": [],
   "source": [
    "five1 = adjustments5(five1)\n",
    "five2 = adjustments5(five2)\n",
    "five3 = adjustments5(five3)\n",
    "five4 = adjustments5(five4)"
   ]
  },
  {
   "cell_type": "code",
   "execution_count": 6,
   "id": "73d21d99-f5c1-46d6-9d1f-49c2bbc59236",
   "metadata": {},
   "outputs": [],
   "source": [
    "five4.loc[9, 'AK'] = 'M 55'\n",
    "five4.loc[10, 'AK'] = 'W20'"
   ]
  },
  {
   "cell_type": "code",
   "execution_count": 7,
   "id": "a8db23b8-a15d-4ee1-bc4c-bf3bd5b8e92e",
   "metadata": {},
   "outputs": [],
   "source": [
    "five_km = pd.concat([five1, five2, five3, five4], axis=0)"
   ]
  },
  {
   "cell_type": "code",
   "execution_count": 8,
   "id": "19183377-08bc-450f-9adb-915bf0042e8d",
   "metadata": {},
   "outputs": [],
   "source": [
    "five_km = five_km.reset_index(drop=True)"
   ]
  },
  {
   "cell_type": "code",
   "execution_count": 9,
   "id": "3f983947-33f2-415b-9962-4cc51c5901a2",
   "metadata": {},
   "outputs": [
    {
     "data": {
      "text/html": [
       "<div>\n",
       "<style scoped>\n",
       "    .dataframe tbody tr th:only-of-type {\n",
       "        vertical-align: middle;\n",
       "    }\n",
       "\n",
       "    .dataframe tbody tr th {\n",
       "        vertical-align: top;\n",
       "    }\n",
       "\n",
       "    .dataframe thead th {\n",
       "        text-align: right;\n",
       "    }\n",
       "</style>\n",
       "<table border=\"1\" class=\"dataframe\">\n",
       "  <thead>\n",
       "    <tr style=\"text-align: right;\">\n",
       "      <th></th>\n",
       "      <th>Startnr.</th>\n",
       "      <th>AK</th>\n",
       "      <th>Platz AK</th>\n",
       "      <th>Verein</th>\n",
       "      <th>Bruttozeit</th>\n",
       "      <th>Nettozeit</th>\n",
       "      <th>Strecke</th>\n",
       "    </tr>\n",
       "  </thead>\n",
       "  <tbody>\n",
       "    <tr>\n",
       "      <th>0</th>\n",
       "      <td>605</td>\n",
       "      <td>M 20</td>\n",
       "      <td>1</td>\n",
       "      <td>TuS Kreuzweingarten-Rheder</td>\n",
       "      <td>17:16 min</td>\n",
       "      <td>(17:15)</td>\n",
       "      <td>5</td>\n",
       "    </tr>\n",
       "    <tr>\n",
       "      <th>1</th>\n",
       "      <td>666</td>\n",
       "      <td>M 40</td>\n",
       "      <td>1</td>\n",
       "      <td>LG Mauerweg Berlin e.V.</td>\n",
       "      <td>17:56 min</td>\n",
       "      <td>(17:55)</td>\n",
       "      <td>5</td>\n",
       "    </tr>\n",
       "    <tr>\n",
       "      <th>2</th>\n",
       "      <td>1083</td>\n",
       "      <td>M 30</td>\n",
       "      <td>1</td>\n",
       "      <td>BSV Friesen</td>\n",
       "      <td>18:07 min</td>\n",
       "      <td>(18:05)</td>\n",
       "      <td>5</td>\n",
       "    </tr>\n",
       "    <tr>\n",
       "      <th>3</th>\n",
       "      <td>643</td>\n",
       "      <td>M 20</td>\n",
       "      <td>2</td>\n",
       "      <td>TuS Neukölln Berlin</td>\n",
       "      <td>18:12 min</td>\n",
       "      <td>(17:55)</td>\n",
       "      <td>5</td>\n",
       "    </tr>\n",
       "    <tr>\n",
       "      <th>4</th>\n",
       "      <td>601</td>\n",
       "      <td>M 35</td>\n",
       "      <td>1</td>\n",
       "      <td>TVB 09</td>\n",
       "      <td>18:43 min</td>\n",
       "      <td>(18:27)</td>\n",
       "      <td>5</td>\n",
       "    </tr>\n",
       "    <tr>\n",
       "      <th>...</th>\n",
       "      <td>...</td>\n",
       "      <td>...</td>\n",
       "      <td>...</td>\n",
       "      <td>...</td>\n",
       "      <td>...</td>\n",
       "      <td>...</td>\n",
       "      <td>...</td>\n",
       "    </tr>\n",
       "    <tr>\n",
       "      <th>197</th>\n",
       "      <td>520</td>\n",
       "      <td>W 40</td>\n",
       "      <td>18</td>\n",
       "      <td>LG Mauerweg Berlin e.V.</td>\n",
       "      <td>47:05 min</td>\n",
       "      <td>(45:08)</td>\n",
       "      <td>5</td>\n",
       "    </tr>\n",
       "    <tr>\n",
       "      <th>198</th>\n",
       "      <td>700</td>\n",
       "      <td>W 55</td>\n",
       "      <td>7</td>\n",
       "      <td>Berlin</td>\n",
       "      <td>49:49 min</td>\n",
       "      <td>(48:42)</td>\n",
       "      <td>5</td>\n",
       "    </tr>\n",
       "    <tr>\n",
       "      <th>199</th>\n",
       "      <td>128</td>\n",
       "      <td>W 20</td>\n",
       "      <td>11</td>\n",
       "      <td>adidas runners</td>\n",
       "      <td>56:19 min</td>\n",
       "      <td>(55:12)</td>\n",
       "      <td>5</td>\n",
       "    </tr>\n",
       "    <tr>\n",
       "      <th>200</th>\n",
       "      <td>573</td>\n",
       "      <td>W 55</td>\n",
       "      <td>8</td>\n",
       "      <td>Lauftreff Brunnenviertel</td>\n",
       "      <td>56:42 min</td>\n",
       "      <td>(56:24)</td>\n",
       "      <td>5</td>\n",
       "    </tr>\n",
       "    <tr>\n",
       "      <th>201</th>\n",
       "      <td>1009</td>\n",
       "      <td>M 50</td>\n",
       "      <td>6</td>\n",
       "      <td>Berlin</td>\n",
       "      <td>2:00:26 h</td>\n",
       "      <td>(2:00:26)</td>\n",
       "      <td>5</td>\n",
       "    </tr>\n",
       "  </tbody>\n",
       "</table>\n",
       "<p>202 rows × 7 columns</p>\n",
       "</div>"
      ],
      "text/plain": [
       "    Startnr.    AK Platz AK                      Verein Bruttozeit  Nettozeit  \\\n",
       "0        605  M 20        1  TuS Kreuzweingarten-Rheder  17:16 min    (17:15)   \n",
       "1        666  M 40        1     LG Mauerweg Berlin e.V.  17:56 min    (17:55)   \n",
       "2       1083  M 30        1                 BSV Friesen  18:07 min    (18:05)   \n",
       "3        643  M 20        2         TuS Neukölln Berlin  18:12 min    (17:55)   \n",
       "4        601  M 35        1                      TVB 09  18:43 min    (18:27)   \n",
       "..       ...   ...      ...                         ...        ...        ...   \n",
       "197      520  W 40       18     LG Mauerweg Berlin e.V.  47:05 min    (45:08)   \n",
       "198      700  W 55        7                      Berlin  49:49 min    (48:42)   \n",
       "199      128  W 20       11              adidas runners  56:19 min    (55:12)   \n",
       "200      573  W 55        8    Lauftreff Brunnenviertel  56:42 min    (56:24)   \n",
       "201     1009  M 50        6                      Berlin  2:00:26 h  (2:00:26)   \n",
       "\n",
       "     Strecke  \n",
       "0          5  \n",
       "1          5  \n",
       "2          5  \n",
       "3          5  \n",
       "4          5  \n",
       "..       ...  \n",
       "197        5  \n",
       "198        5  \n",
       "199        5  \n",
       "200        5  \n",
       "201        5  \n",
       "\n",
       "[202 rows x 7 columns]"
      ]
     },
     "execution_count": 9,
     "metadata": {},
     "output_type": "execute_result"
    }
   ],
   "source": [
    "five_km"
   ]
  },
  {
   "cell_type": "markdown",
   "id": "5c3d7939-308d-41d7-a732-268bdae50ed8",
   "metadata": {},
   "source": [
    "### DATA OF 10KM RUN"
   ]
  },
  {
   "cell_type": "code",
   "execution_count": 10,
   "id": "55df20a4-8faa-4c9d-8a46-fe500655539f",
   "metadata": {},
   "outputs": [],
   "source": [
    "tables10 = camelot.read_pdf('data/10+km+Lauf_2_1597.pdf', flavor='stream', pages='all')"
   ]
  },
  {
   "cell_type": "code",
   "execution_count": 11,
   "id": "45e5983a-d14e-4f02-bb73-aaff234da3f6",
   "metadata": {},
   "outputs": [
    {
     "data": {
      "text/plain": [
       "<TableList n=10>"
      ]
     },
     "execution_count": 11,
     "metadata": {},
     "output_type": "execute_result"
    }
   ],
   "source": [
    "tables10"
   ]
  },
  {
   "cell_type": "code",
   "execution_count": 12,
   "id": "9fcc16dc-9ef7-4a26-98c2-642fe2eb5900",
   "metadata": {},
   "outputs": [],
   "source": [
    "for i, df in enumerate(tables10):\n",
    "    globals()[f'ten{i+1}'] = df.df"
   ]
  },
  {
   "cell_type": "code",
   "execution_count": 13,
   "id": "fba501d8-a931-4bff-9c4a-b94017f37a2e",
   "metadata": {},
   "outputs": [],
   "source": [
    "ten1.iloc[41, 6] = 'Ghost Runners International Club'\n",
    "ten1.iloc[41, 7] = ''\n",
    "ten3.iloc[27,6] = 'Laufgruppe Hohenschönhausen'\n",
    "ten3.iloc[27,7] = ''\n",
    "ten4.iloc[47,6] = 'BSC Eintracht Südring Futsal'\n",
    "ten4.iloc[47,7] = ''\n",
    "ten4.iloc[27, 6] = 'Ghost Runners International Club'\n",
    "ten4.iloc[27, 7] = ''\n",
    "ten9.iloc[44,5] = 'SCC BERLIN SEEWOLFJÄGER'\n",
    "ten9.iloc[44,6] = ''\n",
    "ten10.iloc[39,6] = 'bsg-dkb.de / ERDINGER Active TEAM'\n",
    "ten10.iloc[39,7] = ''\n",
    "ten10.iloc[17,6]= 'SV Blau-Weiß Petershagen/Eggersdorf'\n",
    "ten10.iloc[17,7] = ''"
   ]
  },
  {
   "cell_type": "code",
   "execution_count": 14,
   "id": "d8b69f70-03e1-4415-aa95-bd7b90849d8f",
   "metadata": {},
   "outputs": [],
   "source": [
    "def adjustments(df, distance):\n",
    "    df = df.drop(0)\n",
    "    df = df.drop([0,1,2,7], axis=1)\n",
    "    df = df.rename(columns=dict(zip(df.columns, ['Startnr.', 'AK', 'Platz AK', 'Verein', 'Bruttozeit', 'Nettozeit'])))\n",
    "    df = df.drop([1,2])\n",
    "    df['Startnr.'] = df['Startnr.'].str.replace(r'^(\\d+)\\D.*', r'\\1', regex=True)\n",
    "    df['Startnr.'] = df['Startnr.'].replace(\"\", np.nan)\n",
    "    df = df.dropna(subset=['Startnr.'])\n",
    "    df['Strecke'] = distance\n",
    "    df = df.reset_index(drop=True)\n",
    "    return df\n",
    "\n",
    "def adjustments_alt1(df, distance):\n",
    "    df = df.drop(0)\n",
    "    df = df.drop([0,1,2], axis=1)\n",
    "    df = df.rename(columns=dict(zip(df.columns, ['Startnr.', 'AK', 'Platz AK', 'Verein', 'Bruttozeit', 'Nettozeit'])))\n",
    "    df = df.drop([1,2])\n",
    "    df['Startnr.'] = df['Startnr.'].str.replace(r'^(\\d+)\\D.*', r'\\1', regex=True)\n",
    "    df['Startnr.'] = df['Startnr.'].replace(\"\", np.nan)\n",
    "    df = df.dropna(subset=['Startnr.'])\n",
    "    df['Strecke'] = distance\n",
    "    df = df.reset_index(drop=True)\n",
    "    return df\n",
    "\n",
    "def adjustments_alt2(df, distance):\n",
    "    df = df.drop([0,1,2,3])\n",
    "    df = df.drop([0,2,6], axis=1)\n",
    "    df = df.rename(columns=dict(zip(df.columns, ['Startnr.', 'AK', 'Platz AK', 'Verein', 'Bruttozeit', 'Nettozeit'])))\n",
    "    df['Startnr.'] = df['Startnr.'].str.replace(r'^(\\d+)\\D.*', r'\\1', regex=True)\n",
    "    df['Startnr.'] = df['Startnr.'].replace(\"\", np.nan)\n",
    "    df = df.dropna(subset=['Startnr.'])\n",
    "    df['Strecke'] = distance\n",
    "    df = df.reset_index(drop=True)\n",
    "    return df"
   ]
  },
  {
   "cell_type": "code",
   "execution_count": 15,
   "id": "d8e60538-e22d-4616-93f8-b2d47bcbc34e",
   "metadata": {},
   "outputs": [],
   "source": [
    "ten1 = adjustments(ten1,10)\n",
    "ten2 = adjustments(ten2,10)\n",
    "ten3 = adjustments(ten3,10)\n",
    "ten4 = adjustments(ten4,10)\n",
    "ten5 = adjustments(ten5,10)\n",
    "ten6 = adjustments(ten6,10)\n",
    "ten7 = adjustments_alt1(ten7,10)\n",
    "ten8 = adjustments_alt2(ten8,10)\n",
    "ten9 = adjustments_alt2(ten9,10)\n",
    "ten10 = adjustments(ten10,10)"
   ]
  },
  {
   "cell_type": "code",
   "execution_count": 16,
   "id": "8e61131a-ff78-4f9f-81d2-8c302f2745cf",
   "metadata": {},
   "outputs": [],
   "source": [
    "ten1.loc[14, 'AK'] = 'M 35'\n",
    "ten9.loc[11, 'AK'] = 'M 40'\n",
    "ten10.loc[16, 'AK'] = 'W 55'"
   ]
  },
  {
   "cell_type": "code",
   "execution_count": 17,
   "id": "459dbcfc-376f-4309-9f63-f9ea6117cd75",
   "metadata": {},
   "outputs": [],
   "source": [
    "ten_km = pd.concat([ten1, ten2, ten3, ten4, ten5, ten6, ten7, ten8, ten9, ten10], axis=0)"
   ]
  },
  {
   "cell_type": "code",
   "execution_count": 18,
   "id": "57cb19fa-3ff0-49d1-9eee-a2ceb336ed80",
   "metadata": {},
   "outputs": [],
   "source": [
    "ten_km = ten_km.reset_index(drop=True)"
   ]
  },
  {
   "cell_type": "code",
   "execution_count": 19,
   "id": "c58f9a52-844b-44bf-93cd-d3f753e02b2c",
   "metadata": {},
   "outputs": [
    {
     "data": {
      "text/html": [
       "<div>\n",
       "<style scoped>\n",
       "    .dataframe tbody tr th:only-of-type {\n",
       "        vertical-align: middle;\n",
       "    }\n",
       "\n",
       "    .dataframe tbody tr th {\n",
       "        vertical-align: top;\n",
       "    }\n",
       "\n",
       "    .dataframe thead th {\n",
       "        text-align: right;\n",
       "    }\n",
       "</style>\n",
       "<table border=\"1\" class=\"dataframe\">\n",
       "  <thead>\n",
       "    <tr style=\"text-align: right;\">\n",
       "      <th></th>\n",
       "      <th>Startnr.</th>\n",
       "      <th>AK</th>\n",
       "      <th>Platz AK</th>\n",
       "      <th>Verein</th>\n",
       "      <th>Bruttozeit</th>\n",
       "      <th>Nettozeit</th>\n",
       "      <th>Strecke</th>\n",
       "    </tr>\n",
       "  </thead>\n",
       "  <tbody>\n",
       "    <tr>\n",
       "      <th>0</th>\n",
       "      <td>381</td>\n",
       "      <td>M 20</td>\n",
       "      <td>1</td>\n",
       "      <td>Team Berlin Triathlon</td>\n",
       "      <td>31:41 min</td>\n",
       "      <td>(31:41)</td>\n",
       "      <td>10</td>\n",
       "    </tr>\n",
       "    <tr>\n",
       "      <th>1</th>\n",
       "      <td>318</td>\n",
       "      <td>M 20</td>\n",
       "      <td>2</td>\n",
       "      <td>SGS Running Team</td>\n",
       "      <td>33:50 min</td>\n",
       "      <td>(33:50)</td>\n",
       "      <td>10</td>\n",
       "    </tr>\n",
       "    <tr>\n",
       "      <th>2</th>\n",
       "      <td>323</td>\n",
       "      <td>M 20</td>\n",
       "      <td>3</td>\n",
       "      <td>Berlin</td>\n",
       "      <td>36:17 min</td>\n",
       "      <td>(36:15)</td>\n",
       "      <td>10</td>\n",
       "    </tr>\n",
       "    <tr>\n",
       "      <th>3</th>\n",
       "      <td>400</td>\n",
       "      <td>M 30</td>\n",
       "      <td>1</td>\n",
       "      <td>Hasenheide parkrunners</td>\n",
       "      <td>36:23 min</td>\n",
       "      <td>(36:23)</td>\n",
       "      <td>10</td>\n",
       "    </tr>\n",
       "    <tr>\n",
       "      <th>4</th>\n",
       "      <td>420</td>\n",
       "      <td>M 30</td>\n",
       "      <td>2</td>\n",
       "      <td>Berlin</td>\n",
       "      <td>36:30 min</td>\n",
       "      <td>(36:28)</td>\n",
       "      <td>10</td>\n",
       "    </tr>\n",
       "    <tr>\n",
       "      <th>...</th>\n",
       "      <td>...</td>\n",
       "      <td>...</td>\n",
       "      <td>...</td>\n",
       "      <td>...</td>\n",
       "      <td>...</td>\n",
       "      <td>...</td>\n",
       "      <td>...</td>\n",
       "    </tr>\n",
       "    <tr>\n",
       "      <th>266</th>\n",
       "      <td>240</td>\n",
       "      <td>W 30</td>\n",
       "      <td>21</td>\n",
       "      <td>Berlin</td>\n",
       "      <td>1:24:18 h</td>\n",
       "      <td>(1:22:40)</td>\n",
       "      <td>10</td>\n",
       "    </tr>\n",
       "    <tr>\n",
       "      <th>267</th>\n",
       "      <td>235</td>\n",
       "      <td>W 55</td>\n",
       "      <td>4</td>\n",
       "      <td>Berlin - Pankow</td>\n",
       "      <td>1:25:07 h</td>\n",
       "      <td>(1:24:35)</td>\n",
       "      <td>10</td>\n",
       "    </tr>\n",
       "    <tr>\n",
       "      <th>268</th>\n",
       "      <td>234</td>\n",
       "      <td>W 55</td>\n",
       "      <td>5</td>\n",
       "      <td>Berlin</td>\n",
       "      <td>1:25:30 h</td>\n",
       "      <td>(1:24:02)</td>\n",
       "      <td>10</td>\n",
       "    </tr>\n",
       "    <tr>\n",
       "      <th>269</th>\n",
       "      <td>253</td>\n",
       "      <td>W 55</td>\n",
       "      <td>6</td>\n",
       "      <td>Berlin</td>\n",
       "      <td>1:27:23 h</td>\n",
       "      <td>(1:26:05)</td>\n",
       "      <td>10</td>\n",
       "    </tr>\n",
       "    <tr>\n",
       "      <th>270</th>\n",
       "      <td>269</td>\n",
       "      <td>M 35</td>\n",
       "      <td>32</td>\n",
       "      <td>bsg-dkb.de / ERDINGER Active TEAM</td>\n",
       "      <td>1:31:13 h</td>\n",
       "      <td>(1:29:36)</td>\n",
       "      <td>10</td>\n",
       "    </tr>\n",
       "  </tbody>\n",
       "</table>\n",
       "<p>271 rows × 7 columns</p>\n",
       "</div>"
      ],
      "text/plain": [
       "    Startnr.    AK Platz AK                             Verein Bruttozeit  \\\n",
       "0        381  M 20        1              Team Berlin Triathlon  31:41 min   \n",
       "1        318  M 20        2                   SGS Running Team  33:50 min   \n",
       "2        323  M 20        3                             Berlin  36:17 min   \n",
       "3        400  M 30        1             Hasenheide parkrunners  36:23 min   \n",
       "4        420  M 30        2                             Berlin  36:30 min   \n",
       "..       ...   ...      ...                                ...        ...   \n",
       "266      240  W 30       21                             Berlin  1:24:18 h   \n",
       "267      235  W 55        4                    Berlin - Pankow  1:25:07 h   \n",
       "268      234  W 55        5                             Berlin  1:25:30 h   \n",
       "269      253  W 55        6                             Berlin  1:27:23 h   \n",
       "270      269  M 35       32  bsg-dkb.de / ERDINGER Active TEAM  1:31:13 h   \n",
       "\n",
       "     Nettozeit  Strecke  \n",
       "0      (31:41)       10  \n",
       "1      (33:50)       10  \n",
       "2      (36:15)       10  \n",
       "3      (36:23)       10  \n",
       "4      (36:28)       10  \n",
       "..         ...      ...  \n",
       "266  (1:22:40)       10  \n",
       "267  (1:24:35)       10  \n",
       "268  (1:24:02)       10  \n",
       "269  (1:26:05)       10  \n",
       "270  (1:29:36)       10  \n",
       "\n",
       "[271 rows x 7 columns]"
      ]
     },
     "execution_count": 19,
     "metadata": {},
     "output_type": "execute_result"
    }
   ],
   "source": [
    "ten_km"
   ]
  },
  {
   "cell_type": "markdown",
   "id": "4b56eb24-c5d7-4004-ab48-d61e7899d2e6",
   "metadata": {},
   "source": [
    "### DATA OF 15KM RUN"
   ]
  },
  {
   "cell_type": "code",
   "execution_count": 20,
   "id": "abdcefee-4750-464b-a453-09e226423f95",
   "metadata": {},
   "outputs": [],
   "source": [
    "tables15 = camelot.read_pdf('data/15+km+Lauf_3_1597.pdf', flavor='stream', pages='all')"
   ]
  },
  {
   "cell_type": "code",
   "execution_count": 21,
   "id": "14dc3aea-3244-4556-a927-d09751f3ba14",
   "metadata": {},
   "outputs": [
    {
     "data": {
      "text/plain": [
       "<TableList n=5>"
      ]
     },
     "execution_count": 21,
     "metadata": {},
     "output_type": "execute_result"
    }
   ],
   "source": [
    "tables15"
   ]
  },
  {
   "cell_type": "code",
   "execution_count": 22,
   "id": "da97e120-6bb8-4ca9-b4d7-2d3b488facd3",
   "metadata": {},
   "outputs": [],
   "source": [
    "for i, df in enumerate(tables15):\n",
    "    globals()[f'fifteen{i+1}'] = df.df"
   ]
  },
  {
   "cell_type": "code",
   "execution_count": null,
   "id": "eebe8547-4f34-44a5-bd76-4d6232c47831",
   "metadata": {},
   "outputs": [],
   "source": []
  }
 ],
 "metadata": {
  "kernelspec": {
   "display_name": "Python 3 (ipykernel)",
   "language": "python",
   "name": "python3"
  },
  "language_info": {
   "codemirror_mode": {
    "name": "ipython",
    "version": 3
   },
   "file_extension": ".py",
   "mimetype": "text/x-python",
   "name": "python",
   "nbconvert_exporter": "python",
   "pygments_lexer": "ipython3",
   "version": "3.9.8"
  }
 },
 "nbformat": 4,
 "nbformat_minor": 5
}

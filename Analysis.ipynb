{
 "cells": [
  {
   "cell_type": "code",
   "execution_count": 1,
   "id": "beaeda83-ca4b-4f9e-b01d-1dd4576ca0f9",
   "metadata": {},
   "outputs": [],
   "source": [
    "import pandas as pd\n",
    "import seaborn as sns\n",
    "import matplotlib.pyplot as plt"
   ]
  },
  {
   "cell_type": "code",
   "execution_count": 2,
   "id": "a939e750-7186-4922-a9f0-e534588ad5b8",
   "metadata": {},
   "outputs": [
    {
     "data": {
      "image/png": "[encoded data removed]",
      "text/plain": [
       "<Figure size 500x50 with 1 Axes>"
      ]
     },
     "metadata": {},
     "output_type": "display_data"
    }
   ],
   "source": [
    "c_pal = ['#9d8189', '#f4acb7', '#ffcad4', '#ffe5d9', '#d8e2dc']\n",
    "\n",
    "fig, ax = plt.subplots(figsize=(5, 0.5))\n",
    "\n",
    "for i, color in enumerate(c_pal):\n",
    "    ax.add_patch(plt.Rectangle((i, 0), 1, 1, color=color))\n",
    "\n",
    "ax.set_xlim(0, len(c_pal))\n",
    "ax.set_ylim(0, 1)\n",
    "\n",
    "ax.set_xticks([])\n",
    "ax.set_yticks([])\n",
    "\n",
    "plt.title('color palette')\n",
    "\n",
    "plt.show();"
   ]
  },
  {
   "cell_type": "code",
   "execution_count": 3,
   "id": "284d60f9-64a9-44de-9c01-3e9d01541ea7",
   "metadata": {},
   "outputs": [],
   "source": [
    "data = pd.read_csv('data/plaenterwaldlauf.csv')"
   ]
  },
  {
   "cell_type": "code",
   "execution_count": 4,
   "id": "0c7a218d-98d9-45f0-a6f1-8d9d8fee98b7",
   "metadata": {},
   "outputs": [],
   "source": [
    "data = data.drop(['Unnamed: 0'], axis=1)"
   ]
  },
  {
   "cell_type": "code",
   "execution_count": 5,
   "id": "8eb72c68-29b1-46b7-987d-2978147926cf",
   "metadata": {},
   "outputs": [
    {
     "data": {
      "text/html": [
       "<div>\n",
       "<style scoped>\n",
       "    .dataframe tbody tr th:only-of-type {\n",
       "        vertical-align: middle;\n",
       "    }\n",
       "\n",
       "    .dataframe tbody tr th {\n",
       "        vertical-align: top;\n",
       "    }\n",
       "\n",
       "    .dataframe thead th {\n",
       "        text-align: right;\n",
       "    }\n",
       "</style>\n",
       "<table border=\"1\" class=\"dataframe\">\n",
       "  <thead>\n",
       "    <tr style=\"text-align: right;\">\n",
       "      <th></th>\n",
       "      <th>Startnr.</th>\n",
       "      <th>AK</th>\n",
       "      <th>Platz AK</th>\n",
       "      <th>Verein</th>\n",
       "      <th>Bruttozeit</th>\n",
       "      <th>Nettozeit</th>\n",
       "      <th>Strecke</th>\n",
       "    </tr>\n",
       "  </thead>\n",
       "  <tbody>\n",
       "    <tr>\n",
       "      <th>0</th>\n",
       "      <td>605</td>\n",
       "      <td>M 20</td>\n",
       "      <td>1</td>\n",
       "      <td>TuS Kreuzweingarten-Rheder</td>\n",
       "      <td>17:16 min</td>\n",
       "      <td>(17:15)</td>\n",
       "      <td>5</td>\n",
       "    </tr>\n",
       "    <tr>\n",
       "      <th>1</th>\n",
       "      <td>666</td>\n",
       "      <td>M 40</td>\n",
       "      <td>1</td>\n",
       "      <td>LG Mauerweg Berlin e.V.</td>\n",
       "      <td>17:56 min</td>\n",
       "      <td>(17:55)</td>\n",
       "      <td>5</td>\n",
       "    </tr>\n",
       "    <tr>\n",
       "      <th>2</th>\n",
       "      <td>1083</td>\n",
       "      <td>M 30</td>\n",
       "      <td>1</td>\n",
       "      <td>BSV Friesen</td>\n",
       "      <td>18:07 min</td>\n",
       "      <td>(18:05)</td>\n",
       "      <td>5</td>\n",
       "    </tr>\n",
       "    <tr>\n",
       "      <th>3</th>\n",
       "      <td>643</td>\n",
       "      <td>M 20</td>\n",
       "      <td>2</td>\n",
       "      <td>TuS Neukölln Berlin</td>\n",
       "      <td>18:12 min</td>\n",
       "      <td>(17:55)</td>\n",
       "      <td>5</td>\n",
       "    </tr>\n",
       "    <tr>\n",
       "      <th>4</th>\n",
       "      <td>601</td>\n",
       "      <td>M 35</td>\n",
       "      <td>1</td>\n",
       "      <td>TVB 09</td>\n",
       "      <td>18:43 min</td>\n",
       "      <td>(18:27)</td>\n",
       "      <td>5</td>\n",
       "    </tr>\n",
       "  </tbody>\n",
       "</table>\n",
       "</div>"
      ],
      "text/plain": [
       "   Startnr.    AK  Platz AK                      Verein Bruttozeit Nettozeit  \\\n",
       "0       605  M 20         1  TuS Kreuzweingarten-Rheder  17:16 min   (17:15)   \n",
       "1       666  M 40         1     LG Mauerweg Berlin e.V.  17:56 min   (17:55)   \n",
       "2      1083  M 30         1                 BSV Friesen  18:07 min   (18:05)   \n",
       "3       643  M 20         2         TuS Neukölln Berlin  18:12 min   (17:55)   \n",
       "4       601  M 35         1                      TVB 09  18:43 min   (18:27)   \n",
       "\n",
       "   Strecke  \n",
       "0        5  \n",
       "1        5  \n",
       "2        5  \n",
       "3        5  \n",
       "4        5  "
      ]
     },
     "execution_count": 5,
     "metadata": {},
     "output_type": "execute_result"
    }
   ],
   "source": [
    "data.head()"
   ]
  },
  {
   "cell_type": "markdown",
   "id": "61602051-5161-4189-b61d-55c18f8d3fa6",
   "metadata": {},
   "source": [
    "Let's change the column names to English!"
   ]
  },
  {
   "cell_type": "code",
   "execution_count": 6,
   "id": "86b1e24f-cfbb-4a4f-9c1d-7aadcde13108",
   "metadata": {},
   "outputs": [],
   "source": [
    "data = data.rename(columns=dict(zip(data.columns, ['Bib_number', 'Age_group', 'Ranking_age_group', 'Club', 'Gross_time', 'Net_time', 'Distance'])))"
   ]
  },
  {
   "cell_type": "markdown",
   "id": "ddeacb4a-1d56-4f60-b546-44999fcfafda",
   "metadata": {},
   "source": [
    "And now let's try to get an overview of the data."
   ]
  },
  {
   "cell_type": "code",
   "execution_count": 7,
   "id": "3a0cb598-01db-411b-848d-98a9ed2b9003",
   "metadata": {},
   "outputs": [
    {
     "name": "stdout",
     "output_type": "stream",
     "text": [
      "<class 'pandas.core.frame.DataFrame'>\n",
      "RangeIndex: 687 entries, 0 to 686\n",
      "Data columns (total 7 columns):\n",
      " #   Column             Non-Null Count  Dtype \n",
      "---  ------             --------------  ----- \n",
      " 0   Bib_number         687 non-null    int64 \n",
      " 1   Age_group          687 non-null    object\n",
      " 2   Ranking_age_group  687 non-null    int64 \n",
      " 3   Club               674 non-null    object\n",
      " 4   Gross_time         687 non-null    object\n",
      " 5   Net_time           687 non-null    object\n",
      " 6   Distance           687 non-null    int64 \n",
      "dtypes: int64(3), object(4)\n",
      "memory usage: 37.7+ KB\n"
     ]
    }
   ],
   "source": [
    "data.info()"
   ]
  },
  {
   "cell_type": "code",
   "execution_count": 8,
   "id": "49ada105-0ef5-45fb-8261-4f5288e1c2b7",
   "metadata": {},
   "outputs": [
    {
     "data": {
      "text/plain": [
       "(687, 7)"
      ]
     },
     "execution_count": 8,
     "metadata": {},
     "output_type": "execute_result"
    }
   ],
   "source": [
    "data.shape"
   ]
  },
  {
   "cell_type": "code",
   "execution_count": 9,
   "id": "e5e44259-85a6-4e50-af63-bb88ddac36a1",
   "metadata": {},
   "outputs": [
    {
     "data": {
      "text/html": [
       "<div>\n",
       "<style scoped>\n",
       "    .dataframe tbody tr th:only-of-type {\n",
       "        vertical-align: middle;\n",
       "    }\n",
       "\n",
       "    .dataframe tbody tr th {\n",
       "        vertical-align: top;\n",
       "    }\n",
       "\n",
       "    .dataframe thead th {\n",
       "        text-align: right;\n",
       "    }\n",
       "</style>\n",
       "<table border=\"1\" class=\"dataframe\">\n",
       "  <thead>\n",
       "    <tr style=\"text-align: right;\">\n",
       "      <th></th>\n",
       "      <th>Amount</th>\n",
       "      <th>Percentage</th>\n",
       "    </tr>\n",
       "  </thead>\n",
       "  <tbody>\n",
       "    <tr>\n",
       "      <th>Bib_number</th>\n",
       "      <td>0</td>\n",
       "      <td>0.00</td>\n",
       "    </tr>\n",
       "    <tr>\n",
       "      <th>Age_group</th>\n",
       "      <td>0</td>\n",
       "      <td>0.00</td>\n",
       "    </tr>\n",
       "    <tr>\n",
       "      <th>Ranking_age_group</th>\n",
       "      <td>0</td>\n",
       "      <td>0.00</td>\n",
       "    </tr>\n",
       "    <tr>\n",
       "      <th>Club</th>\n",
       "      <td>13</td>\n",
       "      <td>1.89</td>\n",
       "    </tr>\n",
       "    <tr>\n",
       "      <th>Gross_time</th>\n",
       "      <td>0</td>\n",
       "      <td>0.00</td>\n",
       "    </tr>\n",
       "    <tr>\n",
       "      <th>Net_time</th>\n",
       "      <td>0</td>\n",
       "      <td>0.00</td>\n",
       "    </tr>\n",
       "    <tr>\n",
       "      <th>Distance</th>\n",
       "      <td>0</td>\n",
       "      <td>0.00</td>\n",
       "    </tr>\n",
       "  </tbody>\n",
       "</table>\n",
       "</div>"
      ],
      "text/plain": [
       "                   Amount  Percentage\n",
       "Bib_number              0        0.00\n",
       "Age_group               0        0.00\n",
       "Ranking_age_group       0        0.00\n",
       "Club                   13        1.89\n",
       "Gross_time              0        0.00\n",
       "Net_time                0        0.00\n",
       "Distance                0        0.00"
      ]
     },
     "execution_count": 9,
     "metadata": {},
     "output_type": "execute_result"
    }
   ],
   "source": [
    "missing = pd.DataFrame(data.isnull().sum(), columns=[\"Amount\"])\n",
    "missing['Percentage'] = round((missing['Amount']/data.shape[0])*100, 2)\n",
    "missing"
   ]
  },
  {
   "cell_type": "markdown",
   "id": "e8731bbd-07ec-4a0c-afae-b113ecf488fa",
   "metadata": {},
   "source": [
    "There are a couple of values missing in the Club column."
   ]
  },
  {
   "cell_type": "code",
   "execution_count": 10,
   "id": "64f61958-d0d8-4e25-9ca0-ded52f904c93",
   "metadata": {},
   "outputs": [
    {
     "data": {
      "text/plain": [
       "Bib_number           687\n",
       "Age_group             37\n",
       "Ranking_age_group     32\n",
       "Club                 203\n",
       "Gross_time           632\n",
       "Net_time             625\n",
       "Distance               4\n",
       "dtype: int64"
      ]
     },
     "execution_count": 10,
     "metadata": {},
     "output_type": "execute_result"
    }
   ],
   "source": [
    "data.nunique()"
   ]
  },
  {
   "cell_type": "markdown",
   "id": "711ff4c3-75e6-45f6-8e5f-f4ee65f0678a",
   "metadata": {},
   "source": [
    "Since I'm the one who created this data set by the sweat of my brow, I already know what small changes I want to make before I start the analysis.\n",
    "\n",
    "I would like to split the Age_goup column in order to have separate columns for age group and gender."
   ]
  },
  {
   "cell_type": "code",
   "execution_count": 11,
   "id": "38aa8749-a9ad-4499-a83d-c5bc54db2fe0",
   "metadata": {},
   "outputs": [
    {
     "data": {
      "text/plain": [
       "array(['M 20', 'M 40', 'M 30', 'M 35', 'W 35', 'MJ U20', 'M 45', 'MJ U16',\n",
       "       'W 20', 'W 30', 'MK U12', 'W 50', 'M 50', 'W 40', 'M 65', 'WK U12',\n",
       "       'M 55', 'WJ U16', 'MJ U18', 'W 55', 'MK U10', 'MJ U14', 'W 60',\n",
       "       'WJ U14', 'M 60', 'W 65', 'W 45', 'WK U10', 'M 70', 'M 75', 'W 70',\n",
       "       'W20', 'WJ U18', 'M 85', 'M 80', 'W 85', 'M40'], dtype=object)"
      ]
     },
     "execution_count": 11,
     "metadata": {},
     "output_type": "execute_result"
    }
   ],
   "source": [
    "data['Age_group'].unique()"
   ]
  },
  {
   "cell_type": "markdown",
   "id": "ae93ff82-7e7c-494c-a7d6-76c2caef6920",
   "metadata": {},
   "source": [
    "These are the age groups. M 20 means \"Männer\" (men) 20-24 years old, W 35 \"Frauen\" (Women) 35-39 years old. MJ U18 means \"männliche Jugend\" (male youth) under 18 (= 16 or 17 years old), WK U10 \"weibliche Kinder\" (female children) under 10 (8 or 9 years old)... and so on.\n",
    "\n",
    "We should first separate the first part of the abbreviation from the second part. But let's fix the \"M40\" and \"W20\"\n",
    "first to have it all in the same format (with space):"
   ]
  },
  {
   "cell_type": "code",
   "execution_count": 12,
   "id": "c2d34792-0df7-4571-83e5-05e106cacdfd",
   "metadata": {},
   "outputs": [],
   "source": [
    "data['Age_group'] = data['Age_group'].str.replace('M40', 'M 40')\n",
    "data['Age_group'] = data['Age_group'].str.replace('W20', 'W 20')"
   ]
  },
  {
   "cell_type": "code",
   "execution_count": 13,
   "id": "c7cde0ea-0173-4f11-bff5-983940b91540",
   "metadata": {},
   "outputs": [
    {
     "data": {
      "text/plain": [
       "array(['M 20', 'M 40', 'M 30', 'M 35', 'W 35', 'MJ U20', 'M 45', 'MJ U16',\n",
       "       'W 20', 'W 30', 'MK U12', 'W 50', 'M 50', 'W 40', 'M 65', 'WK U12',\n",
       "       'M 55', 'WJ U16', 'MJ U18', 'W 55', 'MK U10', 'MJ U14', 'W 60',\n",
       "       'WJ U14', 'M 60', 'W 65', 'W 45', 'WK U10', 'M 70', 'M 75', 'W 70',\n",
       "       'WJ U18', 'M 85', 'M 80', 'W 85'], dtype=object)"
      ]
     },
     "execution_count": 13,
     "metadata": {},
     "output_type": "execute_result"
    }
   ],
   "source": [
    "data['Age_group'].unique()"
   ]
  },
  {
   "cell_type": "markdown",
   "id": "753f2a1b-9d4c-41cc-a356-cde01d940dc0",
   "metadata": {},
   "source": [
    "Good. Now we have to split the values exactly where the space is. And then only keep the M or W (and change to M and F - english) in the Gender column. "
   ]
  },
  {
   "cell_type": "code",
   "execution_count": 14,
   "id": "c32d4229-41f4-4f9e-8fa6-1ac9718d7b16",
   "metadata": {},
   "outputs": [],
   "source": [
    "data[['Gender', 'Age']] = data['Age_group'].str.split(' ', expand=True)\n",
    "data['Gender'] = data['Gender'].str.replace(r'(?i)(W|M).', r'\\1', regex=True)\n",
    "data['Gender'] = data['Gender'].replace('W', 'F')"
   ]
  },
  {
   "cell_type": "markdown",
   "id": "e01885c5-3142-4451-a5f5-062644fd6409",
   "metadata": {},
   "source": [
    "For the ages we need a dictionary:"
   ]
  },
  {
   "cell_type": "code",
   "execution_count": 15,
   "id": "2aeb27c8-c8d6-4b05-8e8d-e6f3ac256f54",
   "metadata": {},
   "outputs": [
    {
     "data": {
      "text/plain": [
       "array(['20', '40', '30', '35', 'U20', '45', 'U16', 'U12', '50', '65',\n",
       "       '55', 'U18', 'U10', 'U14', '60', '70', '75', '85', '80'],\n",
       "      dtype=object)"
      ]
     },
     "execution_count": 15,
     "metadata": {},
     "output_type": "execute_result"
    }
   ],
   "source": [
    "data['Age'].unique()"
   ]
  },
  {
   "cell_type": "code",
   "execution_count": 16,
   "id": "e5e4099a-7270-43a3-a892-945ac57c68f9",
   "metadata": {},
   "outputs": [],
   "source": [
    "age_mapping = {'20': '20-24', '40': '40-44', '30': '30-34', '35': '35-39', 'U20': '18-19', '45': '45-49', 'U16': '14-15', 'U12': '10-11', '50': '50-54', '65':'65-69', '55': '55-59', 'U18': '16-17', 'U10': '8-9', 'U14': '12-13', '60': '60-64', '70': '70-74', '75': '75-79', '85': '85-89', '80': '80-84'}"
   ]
  },
  {
   "cell_type": "code",
   "execution_count": 17,
   "id": "55a8a784-57eb-4b4c-bbb1-371374e81b01",
   "metadata": {},
   "outputs": [],
   "source": [
    "data['Age'] = data['Age'].replace(age_mapping)"
   ]
  },
  {
   "cell_type": "code",
   "execution_count": 18,
   "id": "2cf40fc9-5aaa-497e-a5b0-8e6fc6e5bd52",
   "metadata": {},
   "outputs": [
    {
     "data": {
      "text/html": [
       "<div>\n",
       "<style scoped>\n",
       "    .dataframe tbody tr th:only-of-type {\n",
       "        vertical-align: middle;\n",
       "    }\n",
       "\n",
       "    .dataframe tbody tr th {\n",
       "        vertical-align: top;\n",
       "    }\n",
       "\n",
       "    .dataframe thead th {\n",
       "        text-align: right;\n",
       "    }\n",
       "</style>\n",
       "<table border=\"1\" class=\"dataframe\">\n",
       "  <thead>\n",
       "    <tr style=\"text-align: right;\">\n",
       "      <th></th>\n",
       "      <th>Bib_number</th>\n",
       "      <th>Age_group</th>\n",
       "      <th>Ranking_age_group</th>\n",
       "      <th>Club</th>\n",
       "      <th>Gross_time</th>\n",
       "      <th>Net_time</th>\n",
       "      <th>Distance</th>\n",
       "      <th>Gender</th>\n",
       "      <th>Age</th>\n",
       "    </tr>\n",
       "  </thead>\n",
       "  <tbody>\n",
       "    <tr>\n",
       "      <th>682</th>\n",
       "      <td>93</td>\n",
       "      <td>W 50</td>\n",
       "      <td>1</td>\n",
       "      <td>LG Mauerweg Berlin e.V.</td>\n",
       "      <td>2:15:13 h</td>\n",
       "      <td>(2:14:43)</td>\n",
       "      <td>20</td>\n",
       "      <td>F</td>\n",
       "      <td>50-54</td>\n",
       "    </tr>\n",
       "    <tr>\n",
       "      <th>683</th>\n",
       "      <td>57</td>\n",
       "      <td>W 20</td>\n",
       "      <td>7</td>\n",
       "      <td>Berlin</td>\n",
       "      <td>2:19:10 h</td>\n",
       "      <td>(2:17:41)</td>\n",
       "      <td>20</td>\n",
       "      <td>F</td>\n",
       "      <td>20-24</td>\n",
       "    </tr>\n",
       "    <tr>\n",
       "      <th>684</th>\n",
       "      <td>109</td>\n",
       "      <td>W 60</td>\n",
       "      <td>2</td>\n",
       "      <td>Berlin</td>\n",
       "      <td>2:22:25 h</td>\n",
       "      <td>(2:22:03)</td>\n",
       "      <td>20</td>\n",
       "      <td>F</td>\n",
       "      <td>60-64</td>\n",
       "    </tr>\n",
       "    <tr>\n",
       "      <th>685</th>\n",
       "      <td>13</td>\n",
       "      <td>W 20</td>\n",
       "      <td>8</td>\n",
       "      <td>Steglitz</td>\n",
       "      <td>2:27:21 h</td>\n",
       "      <td>(2:25:27)</td>\n",
       "      <td>20</td>\n",
       "      <td>F</td>\n",
       "      <td>20-24</td>\n",
       "    </tr>\n",
       "    <tr>\n",
       "      <th>686</th>\n",
       "      <td>122</td>\n",
       "      <td>M 60</td>\n",
       "      <td>6</td>\n",
       "      <td>Berlin</td>\n",
       "      <td>2:29:45 h</td>\n",
       "      <td>(2:27:55)</td>\n",
       "      <td>20</td>\n",
       "      <td>M</td>\n",
       "      <td>60-64</td>\n",
       "    </tr>\n",
       "  </tbody>\n",
       "</table>\n",
       "</div>"
      ],
      "text/plain": [
       "     Bib_number Age_group  Ranking_age_group                     Club  \\\n",
       "682          93      W 50                  1  LG Mauerweg Berlin e.V.   \n",
       "683          57      W 20                  7                   Berlin   \n",
       "684         109      W 60                  2                   Berlin   \n",
       "685          13      W 20                  8                 Steglitz   \n",
       "686         122      M 60                  6                   Berlin   \n",
       "\n",
       "    Gross_time   Net_time  Distance Gender    Age  \n",
       "682  2:15:13 h  (2:14:43)        20      F  50-54  \n",
       "683  2:19:10 h  (2:17:41)        20      F  20-24  \n",
       "684  2:22:25 h  (2:22:03)        20      F  60-64  \n",
       "685  2:27:21 h  (2:25:27)        20      F  20-24  \n",
       "686  2:29:45 h  (2:27:55)        20      M  60-64  "
      ]
     },
     "execution_count": 18,
     "metadata": {},
     "output_type": "execute_result"
    }
   ],
   "source": [
    "data.tail()"
   ]
  },
  {
   "cell_type": "markdown",
   "id": "1440e749-6af7-46a8-87c4-c3f9fe46c2c0",
   "metadata": {},
   "source": [
    "Next, i would like to take care of the gross and net times so that they are available in the same format."
   ]
  },
  {
   "cell_type": "code",
   "execution_count": 19,
   "id": "0d2c9e49-e93c-4d2e-9119-f711023adfdd",
   "metadata": {},
   "outputs": [
    {
     "data": {
      "text/html": [
       "<div>\n",
       "<style scoped>\n",
       "    .dataframe tbody tr th:only-of-type {\n",
       "        vertical-align: middle;\n",
       "    }\n",
       "\n",
       "    .dataframe tbody tr th {\n",
       "        vertical-align: top;\n",
       "    }\n",
       "\n",
       "    .dataframe thead th {\n",
       "        text-align: right;\n",
       "    }\n",
       "</style>\n",
       "<table border=\"1\" class=\"dataframe\">\n",
       "  <thead>\n",
       "    <tr style=\"text-align: right;\">\n",
       "      <th></th>\n",
       "      <th>Bib_number</th>\n",
       "      <th>Age_group</th>\n",
       "      <th>Ranking_age_group</th>\n",
       "      <th>Club</th>\n",
       "      <th>Gross_time</th>\n",
       "      <th>Net_time</th>\n",
       "      <th>Distance</th>\n",
       "      <th>Gender</th>\n",
       "      <th>Age</th>\n",
       "    </tr>\n",
       "  </thead>\n",
       "  <tbody>\n",
       "    <tr>\n",
       "      <th>0</th>\n",
       "      <td>605</td>\n",
       "      <td>M 20</td>\n",
       "      <td>1</td>\n",
       "      <td>TuS Kreuzweingarten-Rheder</td>\n",
       "      <td>0 days 00:17:16</td>\n",
       "      <td>0 days 00:17:15</td>\n",
       "      <td>5</td>\n",
       "      <td>M</td>\n",
       "      <td>20-24</td>\n",
       "    </tr>\n",
       "    <tr>\n",
       "      <th>1</th>\n",
       "      <td>666</td>\n",
       "      <td>M 40</td>\n",
       "      <td>1</td>\n",
       "      <td>LG Mauerweg Berlin e.V.</td>\n",
       "      <td>0 days 00:17:56</td>\n",
       "      <td>0 days 00:17:55</td>\n",
       "      <td>5</td>\n",
       "      <td>M</td>\n",
       "      <td>40-44</td>\n",
       "    </tr>\n",
       "    <tr>\n",
       "      <th>2</th>\n",
       "      <td>1083</td>\n",
       "      <td>M 30</td>\n",
       "      <td>1</td>\n",
       "      <td>BSV Friesen</td>\n",
       "      <td>0 days 00:18:07</td>\n",
       "      <td>0 days 00:18:05</td>\n",
       "      <td>5</td>\n",
       "      <td>M</td>\n",
       "      <td>30-34</td>\n",
       "    </tr>\n",
       "    <tr>\n",
       "      <th>3</th>\n",
       "      <td>643</td>\n",
       "      <td>M 20</td>\n",
       "      <td>2</td>\n",
       "      <td>TuS Neukölln Berlin</td>\n",
       "      <td>0 days 00:18:12</td>\n",
       "      <td>0 days 00:17:55</td>\n",
       "      <td>5</td>\n",
       "      <td>M</td>\n",
       "      <td>20-24</td>\n",
       "    </tr>\n",
       "    <tr>\n",
       "      <th>4</th>\n",
       "      <td>601</td>\n",
       "      <td>M 35</td>\n",
       "      <td>1</td>\n",
       "      <td>TVB 09</td>\n",
       "      <td>0 days 00:18:43</td>\n",
       "      <td>0 days 00:18:27</td>\n",
       "      <td>5</td>\n",
       "      <td>M</td>\n",
       "      <td>35-39</td>\n",
       "    </tr>\n",
       "    <tr>\n",
       "      <th>...</th>\n",
       "      <td>...</td>\n",
       "      <td>...</td>\n",
       "      <td>...</td>\n",
       "      <td>...</td>\n",
       "      <td>...</td>\n",
       "      <td>...</td>\n",
       "      <td>...</td>\n",
       "      <td>...</td>\n",
       "      <td>...</td>\n",
       "    </tr>\n",
       "    <tr>\n",
       "      <th>682</th>\n",
       "      <td>93</td>\n",
       "      <td>W 50</td>\n",
       "      <td>1</td>\n",
       "      <td>LG Mauerweg Berlin e.V.</td>\n",
       "      <td>0 days 02:15:13</td>\n",
       "      <td>0 days 02:14:43</td>\n",
       "      <td>20</td>\n",
       "      <td>F</td>\n",
       "      <td>50-54</td>\n",
       "    </tr>\n",
       "    <tr>\n",
       "      <th>683</th>\n",
       "      <td>57</td>\n",
       "      <td>W 20</td>\n",
       "      <td>7</td>\n",
       "      <td>Berlin</td>\n",
       "      <td>0 days 02:19:10</td>\n",
       "      <td>0 days 02:17:41</td>\n",
       "      <td>20</td>\n",
       "      <td>F</td>\n",
       "      <td>20-24</td>\n",
       "    </tr>\n",
       "    <tr>\n",
       "      <th>684</th>\n",
       "      <td>109</td>\n",
       "      <td>W 60</td>\n",
       "      <td>2</td>\n",
       "      <td>Berlin</td>\n",
       "      <td>0 days 02:22:25</td>\n",
       "      <td>0 days 02:22:03</td>\n",
       "      <td>20</td>\n",
       "      <td>F</td>\n",
       "      <td>60-64</td>\n",
       "    </tr>\n",
       "    <tr>\n",
       "      <th>685</th>\n",
       "      <td>13</td>\n",
       "      <td>W 20</td>\n",
       "      <td>8</td>\n",
       "      <td>Steglitz</td>\n",
       "      <td>0 days 02:27:21</td>\n",
       "      <td>0 days 02:25:27</td>\n",
       "      <td>20</td>\n",
       "      <td>F</td>\n",
       "      <td>20-24</td>\n",
       "    </tr>\n",
       "    <tr>\n",
       "      <th>686</th>\n",
       "      <td>122</td>\n",
       "      <td>M 60</td>\n",
       "      <td>6</td>\n",
       "      <td>Berlin</td>\n",
       "      <td>0 days 02:29:45</td>\n",
       "      <td>0 days 02:27:55</td>\n",
       "      <td>20</td>\n",
       "      <td>M</td>\n",
       "      <td>60-64</td>\n",
       "    </tr>\n",
       "  </tbody>\n",
       "</table>\n",
       "<p>687 rows × 9 columns</p>\n",
       "</div>"
      ],
      "text/plain": [
       "     Bib_number Age_group  Ranking_age_group                        Club  \\\n",
       "0           605      M 20                  1  TuS Kreuzweingarten-Rheder   \n",
       "1           666      M 40                  1     LG Mauerweg Berlin e.V.   \n",
       "2          1083      M 30                  1                 BSV Friesen   \n",
       "3           643      M 20                  2         TuS Neukölln Berlin   \n",
       "4           601      M 35                  1                      TVB 09   \n",
       "..          ...       ...                ...                         ...   \n",
       "682          93      W 50                  1     LG Mauerweg Berlin e.V.   \n",
       "683          57      W 20                  7                      Berlin   \n",
       "684         109      W 60                  2                      Berlin   \n",
       "685          13      W 20                  8                    Steglitz   \n",
       "686         122      M 60                  6                      Berlin   \n",
       "\n",
       "         Gross_time        Net_time  Distance Gender    Age  \n",
       "0   0 days 00:17:16 0 days 00:17:15         5      M  20-24  \n",
       "1   0 days 00:17:56 0 days 00:17:55         5      M  40-44  \n",
       "2   0 days 00:18:07 0 days 00:18:05         5      M  30-34  \n",
       "3   0 days 00:18:12 0 days 00:17:55         5      M  20-24  \n",
       "4   0 days 00:18:43 0 days 00:18:27         5      M  35-39  \n",
       "..              ...             ...       ...    ...    ...  \n",
       "682 0 days 02:15:13 0 days 02:14:43        20      F  50-54  \n",
       "683 0 days 02:19:10 0 days 02:17:41        20      F  20-24  \n",
       "684 0 days 02:22:25 0 days 02:22:03        20      F  60-64  \n",
       "685 0 days 02:27:21 0 days 02:25:27        20      F  20-24  \n",
       "686 0 days 02:29:45 0 days 02:27:55        20      M  60-64  \n",
       "\n",
       "[687 rows x 9 columns]"
      ]
     },
     "execution_count": 19,
     "metadata": {},
     "output_type": "execute_result"
    }
   ],
   "source": [
    "data['Gross_time'] = data['Gross_time'].str.replace(' min', '').str.replace(' h', '')\n",
    "data['Net_time'] = data['Net_time'].apply(lambda x: x.strip('()'))\n",
    "def convert_to_hh_mm_ss(time_str):\n",
    "    if len(time_str.split(':')) == 2:\n",
    "        time_str = '00:' + time_str\n",
    "    return pd.to_timedelta(time_str)\n",
    "\n",
    "data['Gross_time'] = data['Gross_time'].apply(convert_to_hh_mm_ss)\n",
    "data['Net_time'] = data['Net_time'].apply(convert_to_hh_mm_ss)\n",
    "data"
   ]
  },
  {
   "cell_type": "markdown",
   "id": "84ce167b-34f6-4ffc-b776-8155257a2852",
   "metadata": {},
   "source": [
    "Have to look into this again, I don't like having 0 days in the beginning of each gross and net time.\n",
    "\n",
    "Next step will be to calculate the pace:"
   ]
  },
  {
   "cell_type": "code",
   "execution_count": 20,
   "id": "ae5c4457-d3c8-4a53-a16f-5e721c0edfea",
   "metadata": {},
   "outputs": [],
   "source": [
    "data['Pace'] = data['Net_time']/data['Distance']"
   ]
  }
 ],
 "metadata": {
  "kernelspec": {
   "display_name": "Python 3 (ipykernel)",
   "language": "python",
   "name": "python3"
  },
  "language_info": {
   "codemirror_mode": {
    "name": "ipython",
    "version": 3
   },
   "file_extension": ".py",
   "mimetype": "text/x-python",
   "name": "python",
   "nbconvert_exporter": "python",
   "pygments_lexer": "ipython3",
   "version": "3.9.8"
  }
 },
 "nbformat": 4,
 "nbformat_minor": 5
}
